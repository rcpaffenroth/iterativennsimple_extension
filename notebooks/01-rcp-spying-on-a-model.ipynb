{
 "cells": [
  {
   "cell_type": "code",
   "execution_count": 12,
   "metadata": {},
   "outputs": [],
   "source": [
    "from transformers import pipeline\n",
    "import torch\n"
   ]
  },
  {
   "cell_type": "code",
   "execution_count": 13,
   "metadata": {},
   "outputs": [
    {
     "name": "stderr",
     "output_type": "stream",
     "text": [
      "No model was supplied, defaulted to distilbert-base-uncased-finetuned-sst-2-english and revision af0f99b (https://huggingface.co/distilbert-base-uncased-finetuned-sst-2-english).\n",
      "Using a pipeline without specifying a model name and revision in production is not recommended.\n"
     ]
    },
    {
     "data": {
      "text/plain": [
       "[{'label': 'POSITIVE', 'score': 0.9998743534088135}]"
      ]
     },
     "execution_count": 13,
     "metadata": {},
     "output_type": "execute_result"
    }
   ],
   "source": [
    "pipe = pipeline(\"text-classification\")\n",
    "pipe(\"This restaurant is awesome\")"
   ]
  },
  {
   "cell_type": "code",
   "execution_count": 14,
   "metadata": {},
   "outputs": [],
   "source": [
    "class Spy(torch.nn.Module):\n",
    "    def __init__(self, model):\n",
    "        super().__init__()\n",
    "        self.model = model\n",
    "\n",
    "    def forward(self, *args, **kwargs):\n",
    "        print(f'args {args}')\n",
    "        print(f'kwargs {kwargs}')\n",
    "        output = self.model(*args, **kwargs)\n",
    "        print(f'output {output}')\n",
    "        print(output[0].shape)\n",
    "        return output"
   ]
  },
  {
   "cell_type": "code",
   "execution_count": 15,
   "metadata": {},
   "outputs": [
    {
     "data": {
      "text/plain": [
       "ModuleList(\n",
       "  (0-5): 6 x TransformerBlock(\n",
       "    (attention): MultiHeadSelfAttention(\n",
       "      (dropout): Dropout(p=0.1, inplace=False)\n",
       "      (q_lin): Linear(in_features=768, out_features=768, bias=True)\n",
       "      (k_lin): Linear(in_features=768, out_features=768, bias=True)\n",
       "      (v_lin): Linear(in_features=768, out_features=768, bias=True)\n",
       "      (out_lin): Linear(in_features=768, out_features=768, bias=True)\n",
       "    )\n",
       "    (sa_layer_norm): LayerNorm((768,), eps=1e-12, elementwise_affine=True)\n",
       "    (ffn): FFN(\n",
       "      (dropout): Dropout(p=0.1, inplace=False)\n",
       "      (lin1): Linear(in_features=768, out_features=3072, bias=True)\n",
       "      (lin2): Linear(in_features=3072, out_features=768, bias=True)\n",
       "      (activation): GELUActivation()\n",
       "    )\n",
       "    (output_layer_norm): LayerNorm((768,), eps=1e-12, elementwise_affine=True)\n",
       "  )\n",
       ")"
      ]
     },
     "execution_count": 15,
     "metadata": {},
     "output_type": "execute_result"
    }
   ],
   "source": [
    "pipe.model.distilbert.transformer.layer"
   ]
  },
  {
   "cell_type": "code",
   "execution_count": 16,
   "metadata": {},
   "outputs": [],
   "source": [
    "pipe.model.distilbert.transformer.layer[0] = Spy(pipe.model.distilbert.transformer.layer[0])"
   ]
  },
  {
   "cell_type": "code",
   "execution_count": 17,
   "metadata": {},
   "outputs": [
    {
     "name": "stdout",
     "output_type": "stream",
     "text": [
      "args (tensor([[[ 0.3549, -0.1386, -0.2253,  ...,  0.1536,  0.0748,  0.1310],\n",
      "         [-0.7462,  0.7479,  0.1150,  ...,  0.3907,  0.3402,  0.3951],\n",
      "         [ 0.6612, -0.1107, -0.6210,  ..., -0.6172,  1.0782, -0.0198],\n",
      "         ...,\n",
      "         [-0.1384,  0.4437,  0.0756,  ...,  0.5573,  0.6575, -0.8687],\n",
      "         [ 0.0614,  0.1503, -0.3501,  ...,  0.4288,  0.3237,  0.1198],\n",
      "         [-0.2599,  0.0690, -0.3147,  ..., -0.3003,  0.2748, -0.1766]]]), tensor([[1, 1, 1, 1, 1, 1, 1, 1, 1, 1, 1, 1, 1, 1, 1, 1, 1, 1, 1, 1, 1, 1]]), None, False)\n",
      "kwargs {}\n",
      "output (tensor([[[ 0.0215,  0.0527, -0.1512,  ...,  0.0568,  0.0205,  0.0351],\n",
      "         [-0.3558,  0.7178,  0.2859,  ...,  0.1407,  0.1163,  0.2365],\n",
      "         [ 0.8229,  0.1483, -0.4060,  ..., -0.3931,  1.0438, -0.4586],\n",
      "         ...,\n",
      "         [ 0.1851,  1.0592, -0.0766,  ...,  0.2654,  0.3442, -1.0609],\n",
      "         [ 0.1812,  0.2816, -0.0501,  ...,  0.1309, -0.0092, -0.3293],\n",
      "         [-0.2396, -0.0301, -0.1492,  ...,  0.0310,  0.0384, -0.1757]]]),)\n",
      "torch.Size([1, 22, 768])\n"
     ]
    },
    {
     "data": {
      "text/plain": [
       "[{'label': 'NEGATIVE', 'score': 0.9341132640838623}]"
      ]
     },
     "execution_count": 17,
     "metadata": {},
     "output_type": "execute_result"
    }
   ],
   "source": [
    "pipe(\"This restaurant is awesome and I like it a lot, but I don't like the food.\")"
   ]
  },
  {
   "cell_type": "code",
   "execution_count": null,
   "metadata": {},
   "outputs": [],
   "source": []
  }
 ],
 "metadata": {
  "kernelspec": {
   "display_name": ".venv",
   "language": "python",
   "name": "python3"
  },
  "language_info": {
   "codemirror_mode": {
    "name": "ipython",
    "version": 3
   },
   "file_extension": ".py",
   "mimetype": "text/x-python",
   "name": "python",
   "nbconvert_exporter": "python",
   "pygments_lexer": "ipython3",
   "version": "3.10.12"
  }
 },
 "nbformat": 4,
 "nbformat_minor": 2
}
