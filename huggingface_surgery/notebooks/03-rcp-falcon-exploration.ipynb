{
 "cells": [
  {
   "cell_type": "code",
   "execution_count": 1,
   "metadata": {},
   "outputs": [],
   "source": [
    "import torch\n",
    "\n",
    "from torch.utils.data import DataLoader\n",
    "\n",
    "from transformers import AutoTokenizer\n",
    "from datasets import load_dataset\n",
    "from transformers import AutoModelForCausalLM\n",
    "\n",
    "from accelerate import Accelerator\n",
    "\n",
    "from matplotlib import pyplot as plt"
   ]
  },
  {
   "cell_type": "code",
   "execution_count": 2,
   "metadata": {},
   "outputs": [],
   "source": [
    "model_name=\"tiiuae/falcon-rw-1b\"\n",
    "dataset_name=\"yelp_review_full\"\n",
    "accelerator = Accelerator()"
   ]
  },
  {
   "cell_type": "code",
   "execution_count": 3,
   "metadata": {},
   "outputs": [],
   "source": [
    "# Load the dataset.  Just load the train split.  Different datasets have different splits, but\n",
    "# having a train split is common.\n",
    "dataset = load_dataset(dataset_name, split=\"train\")"
   ]
  },
  {
   "cell_type": "code",
   "execution_count": 4,
   "metadata": {},
   "outputs": [],
   "source": [
    "# We only want to use a small subset of the dataset for this example.\n",
    "# Note that dataset[:1000] would seem to work, but it doesn't.  In particular,\n",
    "# dataset[:1000] is not a dataset object, but a dictionary.  So, we use the\n",
    "# select method to get a dataset object.\n",
    "dataset = dataset.shuffle(42).select(range(1000))"
   ]
  },
  {
   "cell_type": "code",
   "execution_count": 5,
   "metadata": {},
   "outputs": [],
   "source": [
    "# This converts the dataset to a format that the model can understand.\n",
    "# In particlar, it takes the words and converts them to numbers/tokens.\n",
    "# Note, the pdding side is left since that is that the CausalLM model expects.\n",
    "tokenizer = AutoTokenizer.from_pretrained(model_name, padding_side='left')\n",
    "# NOTE: the tokenizer.pad_token is a special token that is used to pad sequences to the same length.\n",
    "tokenizer.pad_token = tokenizer.eos_token\n",
    "\n",
    "# NOT TESTED: I think this gets a batch of samples as defined by the map function.\n",
    "# So, the longest refers to the longest sequence in the batch.\n",
    "def tokenize_function(examples):\n",
    "    return tokenizer(examples[\"text\"], padding='longest', truncation=True, max_length=17)\n",
    "\n",
    "# NOTE: the map function does some fancy caching.  I.e., the first time you run it, it will\n",
    "# take a while.  But, the second time you run it, it will be much faster.\n",
    "tokenized_datasets = dataset.map(tokenize_function, batched=True)\n",
    "# We don't need the labels anymore, so we remove them.\n",
    "tokenized_datasets = tokenized_datasets.remove_columns([\"label\", \"text\"])\n",
    "# From https://huggingface.co/docs/datasets/v2.15.0/en/package_reference/main_classes#datasets.Dataset.set_format\n",
    "#     Set __getitem__ return format using this transform. The transform is applied on-the-fly on batches when __getitem__ is called. \n",
    "#     type (str, optional) — Either output type selected in [None, 'numpy', 'torch', 'tensorflow', 'pandas', 'arrow', 'jax']. None means __getitem__ returns python objects (default).\n",
    "tokenized_datasets.set_format(\"torch\")\n",
    "\n",
    "train_dataloader = DataLoader(tokenized_datasets, shuffle=True, batch_size=8)"
   ]
  },
  {
   "cell_type": "code",
   "execution_count": 6,
   "metadata": {},
   "outputs": [
    {
     "name": "stdout",
     "output_type": "stream",
     "text": [
      "example text\n",
      "{'label': 4, 'text': \"I stalk this truck.  I've been to industrial parks where I pretend to be a tech worker standing in line, strip mall parking lots, and of course the farmer's market.  The bowls are so so absolutely divine.  The owner is super friendly and he makes each bowl by hand with an incredible amount of pride.  You gotta eat here guys!!!\"}\n",
      "example tokenized text\n",
      "{'input_ids': tensor([   40, 31297,   428,  7779,    13,   220,   314,  1053,   587,   284,\n",
      "         7593, 14860,   810,   314, 16614,   284,   307]), 'attention_mask': tensor([1, 1, 1, 1, 1, 1, 1, 1, 1, 1, 1, 1, 1, 1, 1, 1, 1])}\n",
      "example decoded tokenized text\n",
      "I stalk this truck.  I've been to\n"
     ]
    }
   ],
   "source": [
    "# A little sanity check.\n",
    "print('example text')\n",
    "print(dataset[0])\n",
    "print('example tokenized text')\n",
    "print(tokenized_datasets[0])\n",
    "print('example decoded tokenized text')\n",
    "print(tokenizer.decode(tokenized_datasets[0]['input_ids'][:10]))"
   ]
  },
  {
   "cell_type": "code",
   "execution_count": 7,
   "metadata": {},
   "outputs": [],
   "source": [
    "class Spy(torch.nn.Module):\n",
    "        def __init__(self, model, debug=False):\n",
    "            super().__init__()\n",
    "            self.model = model\n",
    "            self.debug = debug\n",
    "            self.inputs = []\n",
    "            self.outputs = []\n",
    "\n",
    "        def forward(self, *args, **kwargs):\n",
    "            self.inputs.append(args)\n",
    "            output = self.model(*args, **kwargs)\n",
    "            self.outputs.append(output)\n",
    "            if self.debug:\n",
    "                print(f'args {args}')\n",
    "                print(f'kwargs {kwargs}')\n",
    "                print(f'output {output}')\n",
    "            return output"
   ]
  },
  {
   "cell_type": "code",
   "execution_count": 8,
   "metadata": {},
   "outputs": [
    {
     "name": "stdout",
     "output_type": "stream",
     "text": [
      "FalconForCausalLM(\n",
      "  (transformer): FalconModel(\n",
      "    (word_embeddings): Embedding(50304, 2048)\n",
      "    (h): ModuleList(\n",
      "      (0-23): 24 x FalconDecoderLayer(\n",
      "        (self_attention): FalconAttention(\n",
      "          (query_key_value): FalconLinear(in_features=2048, out_features=6144, bias=True)\n",
      "          (dense): FalconLinear(in_features=2048, out_features=2048, bias=True)\n",
      "          (attention_dropout): Dropout(p=0.0, inplace=False)\n",
      "        )\n",
      "        (mlp): FalconMLP(\n",
      "          (dense_h_to_4h): FalconLinear(in_features=2048, out_features=8192, bias=True)\n",
      "          (act): GELU(approximate='none')\n",
      "          (dense_4h_to_h): FalconLinear(in_features=8192, out_features=2048, bias=True)\n",
      "        )\n",
      "        (input_layernorm): LayerNorm((2048,), eps=1e-05, elementwise_affine=True)\n",
      "        (post_attention_layernorm): LayerNorm((2048,), eps=1e-05, elementwise_affine=True)\n",
      "      )\n",
      "    )\n",
      "    (ln_f): LayerNorm((2048,), eps=1e-05, elementwise_affine=True)\n",
      "  )\n",
      "  (lm_head): Linear(in_features=2048, out_features=50304, bias=False)\n",
      ")\n"
     ]
    }
   ],
   "source": [
    "model = AutoModelForCausalLM.from_pretrained(model_name)\n",
    "print(model)"
   ]
  },
  {
   "cell_type": "code",
   "execution_count": 9,
   "metadata": {},
   "outputs": [],
   "source": [
    "if model_name == \"tiiuae/falcon-rw-1b\":\n",
    "    my_spy = Spy(model.transformer.h[3])\n",
    "    model.transformer.h[3] = my_spy\n",
    "elif model_name == \"bert-base-cased\":\n",
    "    my_spy = Spy(model.bert.encoder.layer[3])\n",
    "    model.bert.encoder.layer[3] = my_spy\n",
    "elif model_name == \"mistralai/Mistral-7B-v0.1\":\n",
    "    my_spy = Spy(model.model.layers[5])\n",
    "    model.model.layers[5] = my_spy\n",
    "else:\n",
    "    raise ValueError(f\"Unknown model {model_name}\")"
   ]
  },
  {
   "cell_type": "code",
   "execution_count": 10,
   "metadata": {},
   "outputs": [],
   "source": [
    "prompt = \"This is a review of a restaurant.  The food was\"\n",
    "input = tokenizer(prompt, return_tensors=\"pt\").input_ids"
   ]
  },
  {
   "cell_type": "code",
   "execution_count": 11,
   "metadata": {},
   "outputs": [],
   "source": [
    "model = accelerator.prepare(model)\n",
    "# Note, the accelerator is cool, but only handles dataloaders.  So, for this example, we need to do it ourselves.\n",
    "input = input.to(accelerator.device)"
   ]
  },
  {
   "cell_type": "code",
   "execution_count": 12,
   "metadata": {},
   "outputs": [],
   "source": [
    "# This is a simplier way to do it, but does not give high quality results.\n",
    "output = model.generate(input, max_new_tokens=13, pad_token_id=tokenizer.eos_token_id)"
   ]
  },
  {
   "cell_type": "code",
   "execution_count": 13,
   "metadata": {},
   "outputs": [],
   "source": [
    "generated_text = tokenizer.decode(output[0])"
   ]
  },
  {
   "cell_type": "code",
   "execution_count": 14,
   "metadata": {},
   "outputs": [
    {
     "name": "stdout",
     "output_type": "stream",
     "text": [
      "prompt This is a review of a restaurant.  The food was\n",
      "generated_text This is a review of a restaurant.  The food was good, but the service was terrible. The waitress was rude and\n"
     ]
    }
   ],
   "source": [
    "print(f'prompt {prompt}')\n",
    "print(f'generated_text {generated_text}')"
   ]
  },
  {
   "cell_type": "code",
   "execution_count": 15,
   "metadata": {},
   "outputs": [
    {
     "name": "stdout",
     "output_type": "stream",
     "text": [
      "13\n",
      "13\n"
     ]
    }
   ],
   "source": [
    "# We run through the model once for each token we want to generate.  \n",
    "print(len(my_spy.inputs))\n",
    "print(len(my_spy.outputs))"
   ]
  },
  {
   "cell_type": "code",
   "execution_count": 16,
   "metadata": {},
   "outputs": [],
   "source": [
    "# This does some sampling that really seems to help, but I dont' understand it.\n",
    "# https://huggingface.co/docs/transformers/v4.36.1/en/main_classes/text_generation#transformers.GenerationMixin.sample\n",
    "# Parameters that control the generation strategy used\n",
    "# do_sample (bool, optional, defaults to False) — Whether or not to use sampling ; use greedy decoding otherwise.\n",
    "# num_beams (int, optional, defaults to 1) — Number of beams for beam search. 1 means no beam search.\n",
    "# num_beam_groups (int, optional, defaults to 1) — Number of groups to divide num_beams into in order to ensure diversity among different groups of beams. this paper for more details.\n",
    "# penalty_alpha (float, optional) — The values balance the model confidence and the degeneration penalty in contrastive search decoding.\n",
    "# use_cache (bool, optional, defaults to True) — Whether or not the model should use the past last key/values attentions (if applicable to the model) to speed up decoding.\n",
    "# Parameters for manipulation of the model output logits\n",
    "\n",
    "# temperature (float, optional, defaults to 1.0) — The value used to modulate the next token probabilities.\n",
    "# top_k (int, optional, defaults to 50) — The number of highest probability vocabulary tokens to keep for top-k-filtering.\n",
    "# top_p (float, optional, defaults to 1.0) — If set to float < 1, only the smallest set of most probable tokens with probabilities that add up to top_p or higher are kept for generation.\n",
    "# output = model.generate(input, max_new_tokens=100, do_sample=False, top_k=50, top_p=0.95, pad_token_id=tokenizer.eos_token_id)\n",
    "output = model.generate(input, max_new_tokens=100, pad_token_id=tokenizer.eos_token_id)\n"
   ]
  },
  {
   "cell_type": "code",
   "execution_count": 17,
   "metadata": {},
   "outputs": [
    {
     "name": "stdout",
     "output_type": "stream",
     "text": [
      "113\n",
      "113\n"
     ]
    }
   ],
   "source": [
    "print(len(my_spy.inputs))\n",
    "print(len(my_spy.outputs))"
   ]
  },
  {
   "cell_type": "code",
   "execution_count": 18,
   "metadata": {},
   "outputs": [],
   "source": [
    "generated_text = tokenizer.decode(output[0])"
   ]
  },
  {
   "cell_type": "code",
   "execution_count": 19,
   "metadata": {},
   "outputs": [
    {
     "name": "stdout",
     "output_type": "stream",
     "text": [
      "prompt This is a review of a restaurant.  The food was\n",
      "generated_text This is a review of a restaurant.  The food was good, but the service was terrible. The waitress was rude and unhelpful. The food was good, but the service was terrible. The food was good, but the service was terrible. The food was good, but the service was terrible. The food was good, but the service was terrible. The food was good, but the service was terrible. The food was good, but the service was terrible. The food was good, but the service was terrible. The food was good, but\n"
     ]
    }
   ],
   "source": [
    "print(f'prompt {prompt}')\n",
    "print(f'generated_text {generated_text}')"
   ]
  },
  {
   "cell_type": "code",
   "execution_count": 20,
   "metadata": {},
   "outputs": [
    {
     "name": "stdout",
     "output_type": "stream",
     "text": [
      "-----------------------------------------------\n",
      "input I stalk this truck.  I've been to industrial parks where I pretend to be\n",
      "...............................................\n",
      "output I stalk this truck.  I've been to industrial parks where I pretend to be a truck driver, and I've been to industrial parks where I pretend to be a truck driver. I've been to industrial parks where I pretend to be a truck driver. I've been to industrial parks where I pretend to be a truck driver. I've been to industrial parks where I pretend to be a truck driver. I've been to industrial parks where I pretend to be a truck driver. I've been to industrial parks where I pretend to be a truck driver. I've been to industrial\n",
      "-----------------------------------------------\n",
      "input who really knows if this is good pho or not, i was hung tha fuck\n",
      "...............................................\n",
      "output who really knows if this is good pho or not, i was hung tha fuck up on the pho place in the mall, and i was like, \"i'm gonna get pho here, and i'm gonna get pho here, and i'm gonna get pho here, and i'm gonna get pho here, and i'm gonna get pho here, and i'm gonna get pho here, and i'm gonna get pho here, and i'm gonna get pho here, and i'm gonna get pho here, and i'm gonna\n",
      "-----------------------------------------------\n",
      "input I LOVE Bloom Salon... all of their stylist are very qualified and provide excellent hair\n",
      "...............................................\n",
      "output I LOVE Bloom Salon... all of their stylist are very qualified and provide excellent hair services. I have been going to Bloom Salon for over 10 years and have never been disappointed. I have been to many other salons and have never been as satisfied as I am with Bloom Salon.\n",
      "I have been going to Bloom Salon for over 10 years and have never been disappointed. I have been to many other salons and have never been as satisfied as I am with Bloom Salon.\n",
      "I have been going to Bloom Salon for over 10 years and have never been disappointed. I have been\n",
      "-----------------------------------------------\n",
      "input We were excited to eat here, it is difficult to find. They were closed at\n",
      "...............................................\n",
      "output We were excited to eat here, it is difficult to find. They were closed at the time we went.\n",
      "The food was good, but the service was terrible. We waited for over an hour for our food. The waitress was rude and unhelpful.\n",
      "The food was good, but the service was terrible. We waited for over an hour for our food. The waitress was rude and unhelpful.\n",
      "The food was good, but the service was terrible. We waited for over an hour for our food. The waitress was rude and unhelpful.\n",
      "The\n",
      "-----------------------------------------------\n",
      "input So this is a place, with food. That much cannot be denied. But you\n",
      "...............................................\n",
      "output So this is a place, with food. That much cannot be denied. But you can’t deny that it’s also a place that’s been a part of the fabric of the city for a long time.\n",
      "The first thing you notice when you walk into the restaurant is the smell. It’s a combination of the food and the people. It’s a smell that’s been around for a long time. It’s a smell that’s been around for a long time. It’s a smell\n",
      "-----------------------------------------------\n",
      "input Review for the Lounge/Club:\\nEvery time I go to Vegas this is always\n",
      "...............................................\n",
      "output Review for the Lounge/Club:\\nEvery time I go to Vegas this is always my first stop. I love the atmosphere and the people. I love the drinks and the food. I love the music and the people. I love the atmosphere and the people. I love the drinks and the food. I love the music and the people. I love the atmosphere and the people. I love the drinks and the food. I love the music and the people. I love the atmosphere and the people. I love the drinks and the food. I love the music and the people.\n",
      "-----------------------------------------------\n",
      "input I've been going here a lot(pretty much a regular you could say.) It\n",
      "...............................................\n",
      "output I've been going here a lot(pretty much a regular you could say.) It's a great place to go for a quick bite to eat. The food is always good and the service is always great. I've never had a bad meal here.\n",
      "I've been going here a lot(pretty much a regular you could say.) It's a great place to go for a quick bite to eat. The food is always good and the service is always great. I've never had a bad meal here.\n",
      "I've been going here for years. I love the food and\n",
      "-----------------------------------------------\n",
      "input I went to Sole on the weekend and found that it was so crowded and noisy I\n",
      "...............................................\n",
      "output I went to Sole on the weekend and found that it was so crowded and noisy I couldn't hear myself think. I was so disappointed. I had been looking forward to going there for a long time. I had been to the one in the city and it was so much better. I was so disappointed.\n",
      "I went to Sole on the weekend and found that it was so crowded and noisy I couldn't hear myself think. I was so disappointed. I had been looking forward to going there for a long time. I had been to the one in the city and it was so\n",
      "-----------------------------------------------\n",
      "input Went in on a sunday afternoon. Place was dead. Wasn't greeted\n",
      "...............................................\n",
      "output Went in on a sunday afternoon. Place was dead. Wasn't greeted by a hostess. Had to wait for a table. Waited for a table for over an hour. Waited for a waitress. Waited for a waitress to come back. Waited for a waitress to come back. Waited for a waitress to come back. Waited for a waitress to come back. Waited for a waitress to come back. Waited for a waitress to come back. Waited for a waitress to come back. Waited for a waitress to come back.\n",
      "-----------------------------------------------\n",
      "input I have lived here in Phoenix for 9 months now and have had a tough time finding\n",
      "...............................................\n",
      "output I have lived here in Phoenix for 9 months now and have had a tough time finding a place to live. I have been looking for a place to live for a while now and have been rejected by a lot of places. I have been rejected by a lot of places because I am a single mother and I have a child with special needs. I have been rejected by a lot of places because I am a single mother and I have a child with special needs. I have been rejected by a lot of places because I am a single mother and I have a child with special needs.\n"
     ]
    }
   ],
   "source": [
    "input = tokenized_datasets['input_ids'][:10]\n",
    "# Note, the accelerator is cool, but only handles dataloaders.  So, for this example, we need to do it ourselves.\n",
    "input = input.to(accelerator.device)\n",
    "\n",
    "output = model.generate(input, max_new_tokens=100, pad_token_id=tokenizer.eos_token_id)\n",
    "\n",
    "for i in range(len(input)):\n",
    "    print('-----------------------------------------------')\n",
    "    print(f'input {tokenizer.decode(input[i])}')\n",
    "    print('...............................................')\n",
    "    print(f'output {tokenizer.decode(output[i])}')"
   ]
  },
  {
   "cell_type": "code",
   "execution_count": 21,
   "metadata": {},
   "outputs": [
    {
     "name": "stdout",
     "output_type": "stream",
     "text": [
      "-----------------------------------------------\n",
      "input For our weekly pizza delivery, we decided to try something new and got Manolo's\n",
      "...............................................\n",
      "output For our weekly pizza delivery, we decided to try something new and got Manolo's Pizza. We were not disappointed. The pizza was delicious and the service was great. We will definitely be back.\n",
      "I have been going to Manolo's for years. I have never had a bad experience. The pizza is always great and the service is always great. I have never had a bad experience.\n",
      "I have been going to Manolo's for years. I have never had a bad experience. The pizza is always great and the service is always great. I have never had a\n",
      "-----------------------------------------------\n",
      "input I'm new to the area, and on my way home from the coffee shop,\n",
      "...............................................\n",
      "output I'm new to the area, and on my way home from the coffee shop, I saw this sign.\n",
      "I'm new to the area, and on my way home from the coffee shop, I saw this sign.\n",
      "I'm new to the area, and on my way home from the coffee shop, I saw this sign.\n",
      "I'm new to the area, and on my way home from the coffee shop, I saw this sign.\n",
      "I'm new to the area, and on my way home from the coffee shop, I saw this sign.\n",
      "I'm\n",
      "-----------------------------------------------\n",
      "input Well there is no food, beer, music, or anything else for that matter here\n",
      "...............................................\n",
      "output Well there is no food, beer, music, or anything else for that matter here.\n",
      "I am sitting in the lobby of the hotel, waiting for my room to be ready.\n",
      "I am not sure what to do.\n",
      "I am not sure what to do.\n",
      "I am not sure what to do.\n",
      "I am not sure what to do.\n",
      "I am not sure what to do.\n",
      "I am not sure what to do.\n",
      "I am not sure what to do.\n",
      "I am not sure what to do.\n",
      "I am not sure what to do\n",
      "-----------------------------------------------\n",
      "input Worse show I have ever seen. The fact she was lip syncing was absolutely\n",
      "...............................................\n",
      "output Worse show I have ever seen. The fact she was lip syncing was absolutely disgusting.\n",
      "I was so disappointed in the show. I was hoping for a great show. I was hoping for a show that would make me laugh. I was hoping for a show that would make me cry. I was hoping for a show that would make me think. I was hoping for a show that would make me feel. I was hoping for a show that would make me feel good. I was hoping for a show that would make me feel bad. I was hoping for a show that\n",
      "-----------------------------------------------\n",
      "input Great for a car wash but oh my god on the up-sells when you\n",
      "...............................................\n",
      "output Great for a car wash but oh my god on the up-sells when you get to the car wash.\n",
      "I was charged $10 for a car wash and $10 for a hand wash.\n",
      "I was charged $10 for a car wash and $10 for a hand wash.\n",
      "I was charged $10 for a car wash and $10 for a hand wash.\n",
      "I was charged $10 for a car wash and $10 for a hand wash.\n",
      "I was charged $10 for a car wash and $10 for a hand wash.\n",
      "I was charged\n",
      "-----------------------------------------------\n",
      "input Let me start this off by saying that I love q'doba, the food is\n",
      "...............................................\n",
      "output Let me start this off by saying that I love q'doba, the food is great, the service is great, and the atmosphere is great. I have been to the one in the mall in the mall and the one in the strip mall in the strip mall. I have been to the one in the strip mall in the strip mall. I have been to the one in the strip mall in the strip mall. I have been to the one in the strip mall in the strip mall. I have been to the one in the strip mall in the strip mall. I have been\n",
      "-----------------------------------------------\n",
      "input Came here last night & had the worst experience ever! I ordered the bb\n",
      "...............................................\n",
      "output Came here last night & had the worst experience ever! I ordered the bbq chicken pizza and it was so bad I couldn't even finish it. I had to throw it away. I'm so disappointed. I've never had a bad experience at a pizza place before. I've been to a lot of pizza places and this is the worst. I'm so disappointed.\n",
      "I've been to this place a few times and I've never had a bad experience. The pizza is always good and the service is always great. I've never had a bad experience here.\n",
      "-----------------------------------------------\n",
      "input <|endoftext|><|endoftext|><|endoftext|><|endoftext|><|endoftext|>Outdated rooms. An old crowd and no Jacuzzi\n",
      "...............................................\n",
      "output <|endoftext|><|endoftext|><|endoftext|><|endoftext|><|endoftext|>Outdated rooms. An old crowd and no Jacuzzi.\n",
      "The hotel is located in the center of the city, close to the main attractions. The rooms are very small and the bathroom is very small. The hotel is very old and the rooms are very small. The hotel is located in the center of the city, close to the main attractions. The rooms are very small and the bathroom is very small. The hotel is very old and the rooms are very small.\n",
      "The hotel is located in the center of the city, close to the main\n"
     ]
    }
   ],
   "source": [
    "# Ok, now we do the same thing, but with a dataloader.\n",
    "model, train_dataloader = accelerator.prepare(model, train_dataloader)\n",
    "\n",
    "batch = next(iter(train_dataloader))\n",
    "input = batch['input_ids']\n",
    "output = model.generate(input, max_new_tokens=100, pad_token_id=tokenizer.eos_token_id)\n",
    "for i in range(len(input)):\n",
    "    print('-----------------------------------------------')\n",
    "    print(f'input {tokenizer.decode(input[i])}')\n",
    "    print('...............................................')\n",
    "    print(f'output {tokenizer.decode(output[i])}')"
   ]
  },
  {
   "cell_type": "code",
   "execution_count": 22,
   "metadata": {},
   "outputs": [
    {
     "name": "stdout",
     "output_type": "stream",
     "text": [
      "313\n",
      "313\n"
     ]
    }
   ],
   "source": [
    "print(len(my_spy.inputs))\n",
    "print(len(my_spy.outputs))"
   ]
  },
  {
   "cell_type": "code",
   "execution_count": 23,
   "metadata": {},
   "outputs": [],
   "source": [
    "sizes = []\n",
    "for i in range(len(my_spy.inputs)):\n",
    "   sizes.append(my_spy.inputs[i][0].shape[1])"
   ]
  },
  {
   "cell_type": "code",
   "execution_count": 24,
   "metadata": {},
   "outputs": [
    {
     "data": {
      "text/plain": [
       "[<matplotlib.lines.Line2D at 0x7fcee37510f0>]"
      ]
     },
     "execution_count": 24,
     "metadata": {},
     "output_type": "execute_result"
    },
    {
     "data": {
      "image/png": "[encoded data removed]",
      "text/plain": [
       "<Figure size 640x480 with 1 Axes>"
      ]
     },
     "metadata": {},
     "output_type": "display_data"
    }
   ],
   "source": [
    "plt.plot(sizes)"
   ]
  },
  {
   "cell_type": "code",
   "execution_count": null,
   "metadata": {},
   "outputs": [],
   "source": []
  }
 ],
 "metadata": {
  "kernelspec": {
   "display_name": ".venv",
   "language": "python",
   "name": "python3"
  },
  "language_info": {
   "codemirror_mode": {
    "name": "ipython",
    "version": 3
   },
   "file_extension": ".py",
   "mimetype": "text/x-python",
   "name": "python",
   "nbconvert_exporter": "python",
   "pygments_lexer": "ipython3",
   "version": "3.10.12"
  }
 },
 "nbformat": 4,
 "nbformat_minor": 2
}
